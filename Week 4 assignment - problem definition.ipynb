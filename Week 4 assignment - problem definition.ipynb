{
    "nbformat_minor": 1, 
    "cells": [
        {
            "source": "## Problem Definition", 
            "cell_type": "markdown", 
            "metadata": {}
        }, 
        {
            "source": "Our stakeholder is a seafood restaurant owner in the Greek island of Paros, at Agios Dimitrios beach. He wishes to expand his business by opening another restaurant in Paros or another island of the Cyclades group in Aegean Sea. His goal is to build a brand name connected with the concepts of \"swim, relax and taste\". So he needs to find the best beach in Cyclades, in terms of profitability and branding goals, near to which, he will accommodate this next step.     ", 
            "cell_type": "markdown", 
            "metadata": {
                "collapsed": true
            }
        }, 
        {
            "source": "This project will be applicable to every entrepreneur who seeks the best place in Cyclades to invest on a tourism related business.", 
            "cell_type": "markdown", 
            "metadata": {}
        }, 
        {
            "source": "## Data Description", 
            "cell_type": "markdown", 
            "metadata": {}
        }, 
        {
            "source": "Cyclades island group consists of 33 islands varying in size. If we are to meet the profitability goal, we must focus only on the top 5 most visited by tourists. Next step is to find the coordinates for each one of them using [geopy](https://pypi.org/project/geopy/) library in python. Then we can utilize Foursquare to find coordinates of the top 10 beaches in each island. Next, we can find the top venues for each beach and lastly we can cluster our findings and hopefully draw useful conclusion and insight for our stakeholder. Example of the Foursquare dataset you can see below:", 
            "cell_type": "markdown", 
            "metadata": {}
        }, 
        {
            "source": "![alt text](https://d2vlcm61l7u1fs.cloudfront.net/media%2F8c8%2F8c840768-2b03-4d7f-9b7a-31851b509cd9%2FphpS0Ijb7.png)", 
            "cell_type": "markdown", 
            "metadata": {}
        }, 
        {
            "execution_count": null, 
            "cell_type": "code", 
            "metadata": {}, 
            "outputs": [], 
            "source": ""
        }
    ], 
    "metadata": {
        "kernelspec": {
            "display_name": "Python 3.6", 
            "name": "python3", 
            "language": "python"
        }, 
        "language_info": {
            "mimetype": "text/x-python", 
            "nbconvert_exporter": "python", 
            "version": "3.6.8", 
            "name": "python", 
            "file_extension": ".py", 
            "pygments_lexer": "ipython3", 
            "codemirror_mode": {
                "version": 3, 
                "name": "ipython"
            }
        }
    }, 
    "nbformat": 4
}