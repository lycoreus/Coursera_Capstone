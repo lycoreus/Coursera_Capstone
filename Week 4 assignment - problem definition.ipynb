{
    "nbformat_minor": 1, 
    "cells": [
        {
            "source": "## Problem Definition", 
            "cell_type": "markdown", 
            "metadata": {}
        }, 
        {
            "source": "Our stakeholder is a seafood restaurant owner in the Greek island of Paros, at Agios Dimitrios beach. He wishes to expand his business by opening another restaurant in Paros or another island of the Cyclades group in Aegean Sea. His goal is to build a brand name connected with the concepts of \"swim, relax and taste\". So he needs to find a place near the best beach, in terms of profitability and branding goals, to facilitate this next step.     ", 
            "cell_type": "markdown", 
            "metadata": {
                "collapsed": true
            }
        }, 
        {
            "source": "## Data Description", 
            "cell_type": "markdown", 
            "metadata": {}
        }, 
        {
            "source": "Cyclades island group consists of 32 islands varying in size. If we are to meet the profitability goal, we must focus only on the top 5 most visited by tourists. Next step is to find the coordinates for each one of them. Then we can utilize Foursquare to find the top 10 beaches in each island. Then we can find the top venues for each beach. Lastly we can cluster our findings and hopefully draw useful conclusion and insight for our stakeholder. ", 
            "cell_type": "markdown", 
            "metadata": {}
        }, 
        {
            "execution_count": null, 
            "cell_type": "code", 
            "metadata": {}, 
            "outputs": [], 
            "source": ""
        }
    ], 
    "metadata": {
        "kernelspec": {
            "display_name": "Python 3.6", 
            "name": "python3", 
            "language": "python"
        }, 
        "language_info": {
            "mimetype": "text/x-python", 
            "nbconvert_exporter": "python", 
            "version": "3.6.8", 
            "name": "python", 
            "file_extension": ".py", 
            "pygments_lexer": "ipython3", 
            "codemirror_mode": {
                "version": 3, 
                "name": "ipython"
            }
        }
    }, 
    "nbformat": 4
}